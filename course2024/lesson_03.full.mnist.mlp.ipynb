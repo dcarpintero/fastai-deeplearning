{
 "cells": [
  {
   "cell_type": "code",
   "execution_count": 1,
   "id": "56c05f8f-073f-47af-bbb5-0aa873dca2cd",
   "metadata": {},
   "outputs": [],
   "source": [
    "import torch\n",
    "import torch.nn as nn"
   ]
  },
  {
   "cell_type": "code",
   "execution_count": 2,
   "id": "539b2e5d-f4e6-4220-be0b-5088211625b4",
   "metadata": {},
   "outputs": [
    {
     "name": "stdout",
     "output_type": "stream",
     "text": [
      "GPU State: cpu\n"
     ]
    }
   ],
   "source": [
    "device = 'cuda:0' if torch.cuda.is_available() else 'cpu'\n",
    "print('GPU State:', device)"
   ]
  },
  {
   "cell_type": "markdown",
   "id": "c1c26823-c58d-4268-b247-9cfed2467b39",
   "metadata": {},
   "source": [
    "# Annotated Multi-Layer Perceptron (MLP) for Digit Classification (0-9)"
   ]
  },
  {
   "cell_type": "markdown",
   "id": "9be7150a-16d7-41a9-a025-9d33670d77e0",
   "metadata": {},
   "source": [
    "This notebook implements a `MLP to classify handwritten digit images from 0 to 9`. The images belong to the [MNIST](http://yann.lecun.com/exdb/mnist/) dataset, wherein each image is represented as a matrix comprising 28 x 28 pixels (*white* is stored as 0, *black* as 255, and *shades of gray* in between).\n",
    "\n",
    "Our goal is to approximate a mathematical model to the data provided by said MNIST dataset. The intuition is to average (weight) each pixel for each of the possible digits, by adjusting said weighting from a random initialization until it approximates to a favorable digit prediction. In this regard, the [Universal Approximation Theorem](https://en.wikipedia.org/wiki/Universal_approximation_theorem) states that using multiple nonlinear functions enables to approximate complex patterns such as those needed for computer vision. So, as the building block for our model we use first a basic linear function wherein input pixel values are adjusted by matrix multiplication, namely `input_pixels @ weights + bias` (bias allows the output to be shifted by a constant), and then we combine it with `a non-linear function (RELU)` to approximate complex patterns as outlined in the universal approximation theorem. *Note that a series of linear functions would in practice only fit linear data.*\n",
    "\n",
    "As further suggested by  Arthur Samuel, we will perform said approximation in an automatic manner using [Stocastic Gradient Descend](https://en.wikipedia.org/wiki/Stochastic_gradient_descent):\n",
    "\n",
    "1. `initialize parameters`.\n",
    "2. `calculate predictions` on a mini-batch.\n",
    "3. `calculate the average loss` between the predictions and the targets in the mini-batch.\n",
    "4. `calculate the gradients`, this provides an indication of how the parameters need to change to minimize the loss function.\n",
    "5. `step the weights` based on the `gradients` and `learning rate`.\n",
    "6. repeat from step (ii).\n",
    "7. stop once a condition is met (e.g. time constraint or based on when the training/validation losses and metrics stop improving).\n",
    "\n",
    "> *Suppose we arrange for some automatic means of testing the effectiveness of any current weight assignment in terms of actual performance and provide a mechanism for altering the weight assignment so as to maximize the performance. We need not go into the details of such a procedure to see that it could be made entirely automatic and to see that a machine so programmed would \"learn\" from its experience. (Arthur Samuel)*\n",
    "\n"
   ]
  },
  {
   "cell_type": "markdown",
   "id": "36d7b71c-b316-4499-a2a5-60c2c2b2f8b2",
   "metadata": {},
   "source": [
    "## 1. Model Definition"
   ]
  },
  {
   "cell_type": "markdown",
   "id": "d80fc1fc-5490-47e2-aebc-43341fedc7bc",
   "metadata": {},
   "source": [
    "For the sake of learning we will implement our own:\n",
    "- linear layer,\n",
    "- activation (non-linear) function (RELU),\n",
    "- sequential layer, \n",
    "- flatten layer,\n",
    "- basic optimizer, and\n",
    "- learner."
   ]
  },
  {
   "cell_type": "markdown",
   "id": "25bed15d-1b1d-4d5d-9777-ec578748ba01",
   "metadata": {},
   "source": [
    "### 1.1 Configuration"
   ]
  },
  {
   "cell_type": "code",
   "execution_count": 3,
   "id": "35ca993b-95a4-4fc2-b176-6adcce63787c",
   "metadata": {},
   "outputs": [],
   "source": [
    "from dataclasses import dataclass\n",
    "\n",
    "@dataclass\n",
    "class LearnerConfig:\n",
    "    model: nn.Module\n",
    "    criterion: nn.Module\n",
    "    epochs: int\n",
    "    batch_size: int\n",
    "    lr: float\n",
    "    device: str"
   ]
  },
  {
   "cell_type": "markdown",
   "id": "367db28f-da4c-4a58-a259-e2ef64a15817",
   "metadata": {},
   "source": [
    "### 1.2 Linear Layer"
   ]
  },
  {
   "cell_type": "markdown",
   "id": "bab83fe6-c5d0-4ac8-991e-d3eeef78350a",
   "metadata": {},
   "source": [
    "In a linear layer, we reduce the dimensionality of the input data. By stacking various linear layers in a later step, the neural network will learn to extract relevant features from the input data.\n",
    "\n",
    "> Note:\n",
    "> \n",
    "> - the use of **nn.Parameter** to register the linear parameters. This will allow the optimizer, which takes a list of parameters as input, to update the parameter values during backpropagation.\n",
    "> - the property **requires_grad()** tracks the gradient for a tensor in the `grad` attribute. The gradient is a measure inferred from the derivative of a function that indicates how a function output would change by modifying its parameters. In our case, it tells us how we have to change each weight to make our model better."
   ]
  },
  {
   "cell_type": "code",
   "execution_count": 4,
   "id": "58be2d15-9a12-41ef-ba5b-b92e297cfb51",
   "metadata": {},
   "outputs": [],
   "source": [
    "class Linear(nn.Module):\n",
    "    def __init__(self, in_features: int, out_features: int):\n",
    "        super(Linear, self).__init__()\n",
    "        self.in_features = in_features\n",
    "        self.out_features = out_features\n",
    "    \n",
    "        self.weight = nn.Parameter((torch.randn((self.in_features,\n",
    "                                                 self.out_features), device=device) * 0.1).requires_grad_())\n",
    "        self.bias = nn.Parameter((torch.randn(self.out_features, device=device) * 0.1).requires_grad_())\n",
    "        \"\"\"\n",
    "        step_1: initialize_parameters (weights & biases)\n",
    "        \"\"\"\n",
    "\n",
    "    def forward(self, x: torch.Tensor) -> torch.Tensor:\n",
    "        return x @ self.weight + self.bias\n",
    "    \n",
    "    def __repr__(self) -> str:\n",
    "        return f'in_features={self.in_features}, out_features={self.out_features}, bias={self.bias is not None}'"
   ]
  },
  {
   "cell_type": "markdown",
   "id": "5c666595-7729-46c4-8aa6-b4bf78910bd3",
   "metadata": {},
   "source": [
    "### 1.3 RELU function"
   ]
  },
  {
   "cell_type": "markdown",
   "id": "908dfc9d-6428-4764-9075-fd0dedec3f3d",
   "metadata": {},
   "source": [
    "ReLU stands for rectified linear unit, it is an activation function that converts negative values to 0, while maintaining possitive values. `An activation function introduces non-linearity into the output of a neuron`. Without non-linearity, no matter how many layers our neural network has, it would behave just like a single-layer perceptron, because summing these layers would give us another linear function, preventing the model from learning complex patterns."
   ]
  },
  {
   "cell_type": "code",
   "execution_count": 5,
   "id": "bb12030a-4b38-4318-b013-685daa2062e5",
   "metadata": {},
   "outputs": [],
   "source": [
    "class ReLU(nn.Module):\n",
    "    @staticmethod\n",
    "    def forward(x: torch.Tensor) -> torch.Tensor:\n",
    "        return torch.max(x, torch.tensor(0))"
   ]
  },
  {
   "cell_type": "markdown",
   "id": "73b32a62-bced-4555-976a-7ea5dd5412ae",
   "metadata": {},
   "source": [
    "### 1.4 Sequential Layer"
   ]
  },
  {
   "cell_type": "markdown",
   "id": "9cc4e0c8-cf42-4d8b-9535-2b471707e5ad",
   "metadata": {},
   "source": [
    "We also need a sequential layer to connect the block layers in a feedforward manner from the inputs to the outputs."
   ]
  },
  {
   "cell_type": "code",
   "execution_count": 6,
   "id": "4e2e3b1c-3062-48bb-929c-1ab412b031f0",
   "metadata": {},
   "outputs": [],
   "source": [
    "class Sequential(nn.Module):\n",
    "    def __init__(self, *layers):\n",
    "        super(Sequential, self).__init__()\n",
    "        self.layers = nn.ModuleList(layers)\n",
    "\n",
    "    def forward(self, x: torch.Tensor) -> torch.Tensor:\n",
    "        for layer in self.layers:\n",
    "            x = layer(x)\n",
    "        return x\n",
    "\n",
    "    def __repr__(self):\n",
    "        layer_str = '\\n'.join([f'    ({i}): {layer}' for i, layer in enumerate(self.layers)])\n",
    "        return f'{self.__class__.__name__}(\\n{layer_str}\\n)'"
   ]
  },
  {
   "cell_type": "markdown",
   "id": "63cad8fd-da0a-461d-a508-c43182b91107",
   "metadata": {},
   "source": [
    "### 1.5 Flatten Layer"
   ]
  },
  {
   "cell_type": "markdown",
   "id": "c73b46c6-d020-4684-a0ef-2bb6345791ef",
   "metadata": {},
   "source": [
    "Since we're working with the MNIST dataset where images need to be flattened we include a `view` transformation. Note that `x.view(x.size(0), -1)` reshapes the x tensor to have a shape of `(x.size(0), N)`. For example, if x is a 3D tensor with shape `(batch_size, height, width)`, `x.view(x.size(0), -1)` would flatten the height, and width dimensions into a single dimension, resulting in a 2D tensor with shape `(batch_size, height*width)`. In our case (batch_size, 28, 28) is reshaped to (batch_size, 784)."
   ]
  },
  {
   "cell_type": "code",
   "execution_count": 7,
   "id": "93930ef0-9f20-4070-98bc-ba782c1c69b5",
   "metadata": {},
   "outputs": [],
   "source": [
    "class Flatten(nn.Module):\n",
    "    @staticmethod\n",
    "    def forward(x: torch.Tensor) -> torch.Tensor:\n",
    "        return x.view(x.size(0), -1)"
   ]
  },
  {
   "cell_type": "markdown",
   "id": "3d2cde34-2de5-4d65-8b83-d30535930af8",
   "metadata": {},
   "source": [
    "### 1.5 Classifier"
   ]
  },
  {
   "cell_type": "markdown",
   "id": "5198862d-d019-4512-988d-582489b3f561",
   "metadata": {},
   "source": [
    "By stacking various linear layers in a later step, the neural network will learn to extract relevant features from the input data. Note that as explained above we combine linear and non-linear functions."
   ]
  },
  {
   "cell_type": "code",
   "execution_count": 8,
   "id": "d5603572-7544-4a40-ac8a-1a12f115f388",
   "metadata": {},
   "outputs": [
    {
     "data": {
      "text/plain": [
       "DigitClassifier(\n",
       "  (main): Sequential(\n",
       "      (0): Flatten()\n",
       "      (1): in_features=784, out_features=128, bias=True\n",
       "      (2): ReLU()\n",
       "      (3): in_features=128, out_features=64, bias=True\n",
       "      (4): ReLU()\n",
       "      (5): in_features=64, out_features=10, bias=True\n",
       "  )\n",
       ")"
      ]
     },
     "execution_count": 8,
     "metadata": {},
     "output_type": "execute_result"
    }
   ],
   "source": [
    "class DigitClassifier(nn.Module):\n",
    "    def __init__(self):\n",
    "        super(DigitClassifier, self).__init__()\n",
    "        self.main = Sequential(\n",
    "            Flatten(),\n",
    "            Linear(in_features=784, out_features=128),\n",
    "            ReLU(),\n",
    "            Linear(in_features=128, out_features=64),\n",
    "            ReLU(),\n",
    "            Linear(in_features=64, out_features=10),\n",
    "        )\n",
    "\n",
    "    def forward(self, x: torch.Tensor) -> torch.Tensor:\n",
    "        return self.main(x)\n",
    "        \"\"\"\n",
    "        step_2: calculate_predictions\n",
    "        \"\"\"\n",
    "\n",
    "model = DigitClassifier().to(device)\n",
    "model"
   ]
  },
  {
   "cell_type": "markdown",
   "id": "cf4fb97a-e783-42e1-91ca-33bd352602d7",
   "metadata": {},
   "source": [
    "Verify that the parameters have been properly registered."
   ]
  },
  {
   "cell_type": "code",
   "execution_count": 9,
   "id": "f186533f-097c-4636-a8d9-1b1ee7100bc1",
   "metadata": {},
   "outputs": [
    {
     "data": {
      "text/plain": [
       "Parameter containing:\n",
       "tensor([[-0.0261, -0.0317,  0.0396,  ...,  0.0632, -0.1842,  0.0695],\n",
       "        [ 0.0517, -0.0235,  0.1367,  ...,  0.0189,  0.0350, -0.1229],\n",
       "        [ 0.1071,  0.1313, -0.0074,  ..., -0.1493,  0.2083, -0.0038],\n",
       "        ...,\n",
       "        [-0.0147,  0.0288,  0.0339,  ..., -0.0953, -0.1541,  0.2259],\n",
       "        [-0.0533, -0.0137,  0.0331,  ...,  0.0015,  0.0739,  0.1074],\n",
       "        [-0.1288,  0.0720,  0.1954,  ..., -0.1109, -0.0285,  0.0522]],\n",
       "       requires_grad=True)"
      ]
     },
     "execution_count": 9,
     "metadata": {},
     "output_type": "execute_result"
    }
   ],
   "source": [
    "list(model.parameters())[0]"
   ]
  },
  {
   "cell_type": "markdown",
   "id": "dfebe674-fc6c-40df-a58d-91242aeaa920",
   "metadata": {},
   "source": [
    "### 1.6 Optimizer"
   ]
  },
  {
   "cell_type": "markdown",
   "id": "b3c3efd3-aa3c-4987-ae79-c1b219faa5f4",
   "metadata": {},
   "source": [
    "Our optimizer adjusts the parameters of the model proportionarly to the gradients computed during backpropagation.\n",
    "\n",
    "> In 1974, [Paul Werbos](https://ethw.org/Paul_John_Werbos) invented backpropagation for neural networks (Werbos 1974). His development was almost entirely ignored for decades, but [today it is considered the most important foundation of modern AI](https://ieeexplore.ieee.org/author/37344537300)."
   ]
  },
  {
   "cell_type": "code",
   "execution_count": 10,
   "id": "97865f18-921a-4f89-8b5c-f96015bdc41b",
   "metadata": {},
   "outputs": [],
   "source": [
    "class BasicOptim:\n",
    "    def __init__(self, params, lr): \n",
    "        self.params, self.lr = list(params), lr\n",
    "\n",
    "    def step(self):\n",
    "        for p in self.params:\n",
    "            p.data -= p.grad.data * self.lr\n",
    "        \"\"\"\n",
    "        step_5: step_weights\n",
    "        \"\"\"\n",
    "\n",
    "    def zero_grad(self):\n",
    "        for p in self.params:\n",
    "            p.grad = None\n",
    "        \"\"\"\n",
    "        As PyTorch accumulates gradients. To ensure that the gradients of the current optimization step \n",
    "        don't get mixed up with those of the previous steps, we will need to zero them out beforehand.\n",
    "        \"\"\""
   ]
  },
  {
   "cell_type": "markdown",
   "id": "cc166275-a1ec-4609-afc1-67eda5e7a956",
   "metadata": {},
   "source": [
    "### 1.7 Init Config"
   ]
  },
  {
   "cell_type": "code",
   "execution_count": 11,
   "id": "6ff978ea-8e98-447e-8341-f1223b3525a6",
   "metadata": {},
   "outputs": [],
   "source": [
    "config = LearnerConfig(model=model,\n",
    "                       criterion=nn.CrossEntropyLoss(),\n",
    "                       epochs=10, \n",
    "                       batch_size=128,\n",
    "                       lr=0.005,\n",
    "                       device=device)"
   ]
  },
  {
   "cell_type": "markdown",
   "id": "bf11eaad-367a-4f39-8cc1-034b93de540a",
   "metadata": {},
   "source": [
    "## 2. Create DataLoaders"
   ]
  },
  {
   "cell_type": "markdown",
   "id": "bf37021c-13ab-4677-9321-0feba6686806",
   "metadata": {},
   "source": [
    "Note the use of `torch.utils.data. DataLoader`, a utility class that helps with batching, shuffling, and loading data in parallel. \n",
    "\n",
    "The use of `mini-batches` has several advantages:\n",
    "- (i) **computational efficiency**: GPUs only performs well if they have lots of work to do at a time,\n",
    "- (ii) **better generalization**: rather than simply enumerating our dataset in order for every epoch, we randomly shuffle it on every epoch to introduce variance,\n",
    "- and (iii) **memory usage**: it is a practical choice to not overload GPU's memory with the whole dataset at once."
   ]
  },
  {
   "cell_type": "code",
   "execution_count": 12,
   "id": "08fa0ad4-797d-4981-8d90-22640823de9c",
   "metadata": {},
   "outputs": [],
   "source": [
    "from torchvision.transforms import ToTensor\n",
    "from torchvision import datasets\n",
    "from torch.utils.data import DataLoader\n",
    "\n",
    "train_data = datasets.MNIST(root = 'data', train = True, transform = ToTensor(), download = True)\n",
    "test_data = datasets.MNIST(root = 'data', train = False, transform = ToTensor())\n",
    "num_workers = 1\n",
    "\n",
    "loaders = {'train' : DataLoader(train_data, batch_size=config.batch_size, shuffle=True, num_workers=num_workers),\n",
    "           'test'  : DataLoader(test_data, batch_size=config.batch_size, shuffle=False, num_workers=num_workers)}"
   ]
  },
  {
   "cell_type": "code",
   "execution_count": 13,
   "id": "f6adaaee-25a6-4806-a2d7-8348b5cc1c1c",
   "metadata": {},
   "outputs": [
    {
     "data": {
      "text/plain": [
       "(torch.Size([60000, 28, 28]), torch.Size([10000, 28, 28]))"
      ]
     },
     "execution_count": 13,
     "metadata": {},
     "output_type": "execute_result"
    }
   ],
   "source": [
    "train_data.data.size(), test_data.data.size()"
   ]
  },
  {
   "cell_type": "code",
   "execution_count": 14,
   "id": "a05c27f6-9b4b-4b02-8fd4-bebcb80493bc",
   "metadata": {},
   "outputs": [
    {
     "data": {
      "image/png": "[encoded data removed]",
      "text/plain": [
       "<Figure size 360x288 with 25 Axes>"
      ]
     },
     "metadata": {
      "needs_background": "light"
     },
     "output_type": "display_data"
    }
   ],
   "source": [
    "import matplotlib.pyplot as plt \n",
    "\n",
    "figure = plt.figure(figsize=(5, 4))\n",
    "cols, rows = 5, 5\n",
    "for i in range(1, cols * rows + 1):\n",
    "    sample_idx = torch.randint(len(train_data), size=(1,)).item()\n",
    "    img, label = train_data[sample_idx]\n",
    "    figure.add_subplot(rows, cols, i)\n",
    "    plt.axis(\"off\")\n",
    "    plt.imshow(img.squeeze(), cmap=\"gray\")\n",
    "plt.show()"
   ]
  },
  {
   "cell_type": "code",
   "execution_count": 15,
   "id": "bcfd9216-e2a1-490b-bd3d-265dc3f558d8",
   "metadata": {},
   "outputs": [
    {
     "data": {
      "text/plain": [
       "torch.Size([1, 28, 28])"
      ]
     },
     "execution_count": 15,
     "metadata": {},
     "output_type": "execute_result"
    }
   ],
   "source": [
    "img.size()"
   ]
  },
  {
   "cell_type": "markdown",
   "id": "32d2e209-9d5d-4a06-a541-98b587744a73",
   "metadata": {},
   "source": [
    "## 3. Learner: Fit and and Validation"
   ]
  },
  {
   "cell_type": "code",
   "execution_count": 16,
   "id": "9e498b65-c51d-4fb0-9d6f-5918d8851e6a",
   "metadata": {},
   "outputs": [],
   "source": [
    "class Learner:\n",
    "    def __init__(self, config, loaders):\n",
    "        self.model = config.model\n",
    "        self.loaders = loaders\n",
    "        self.optimizer = BasicOptim(model.parameters(), config.lr)\n",
    "        self.criterion = config.criterion\n",
    "        self.epochs = config.epochs\n",
    "        self.device = config.device\n",
    "                \n",
    "    def train_epoch(self, epoch):\n",
    "        epoch_loss = 0.0\n",
    "        \n",
    "        for x, y in self.loaders[\"train\"]:\n",
    "            x, y = x.to(self.device), y.to(self.device)    \n",
    "            batch_size = x.size(0)\n",
    "\n",
    "            self.optimizer.zero_grad()\n",
    "            \"\"\"\n",
    "            Without zeroing the gradients, the gradient of the current loss \n",
    "            would be added to the previously stored gradient value.\n",
    "            \"\"\"\n",
    "            output = self.model(x)\n",
    "            loss = self.criterion(output, y)\n",
    "            loss.backward()\n",
    "            self.optimizer.step()\n",
    "            \"\"\"\n",
    "            steps 2-5: calculate_predictions_loss_gradients + step_params \n",
    "            \"\"\"\n",
    "            epoch_loss += loss.item() * batch_size\n",
    "        \n",
    "        avg_loss = epoch_loss / len(loaders['train'].dataset)\n",
    "        return avg_loss\n",
    "        \n",
    "    def batch_accuracy(self,x, y):\n",
    "        _, preds = torch.max(x.data, 1)\n",
    "        return (preds == y).sum().item() / x.size(0)\n",
    "        \"\"\"\n",
    "        Note the use of broadcasting if `predicted` and `y` don't have the same shape.\n",
    "        \"\"\"\n",
    "    \n",
    "    def validate_epoch(self):\n",
    "        accs = [self.batch_accuracy(model(x.to(self.device)), \n",
    "                                    y.to(self.device)) for x, y in self.loaders[\"test\"]]\n",
    "        return sum(accs) / len(accs)\n",
    "        \n",
    "    def fit(self):\n",
    "        print('epoch\\ttrain_loss\\ttest_accuracy')\n",
    "        for epoch in range(self.epochs):\n",
    "            epoch_loss = self.train_epoch(epoch)\n",
    "            epoch_accuracy = self.validate_epoch()\n",
    "            print(f'{epoch+1}\\t{epoch_loss:.6f}\\t{epoch_accuracy:.6f}')\n",
    "\n",
    "    def predict(self, x):\n",
    "        with torch.no_grad():\n",
    "            outputs = self.model(x.to(self.device))\n",
    "            _, predicted = torch.max(outputs.data, 1)\n",
    "            return predicted\n",
    "        \n",
    "    def predict_probs(self, x):\n",
    "        with torch.no_grad():\n",
    "            output = self.model(x.to(self.device))\n",
    "            probabilities = torch.nn.functional.softmax(output, dim=1)\n",
    "            return probabilities\n",
    "            \n",
    "    def export(self, path):\n",
    "        torch.save(self.model.state_dict(), path)"
   ]
  },
  {
   "cell_type": "code",
   "execution_count": 17,
   "id": "305f6c2f-2692-43c2-a4b0-da1294e9c720",
   "metadata": {},
   "outputs": [],
   "source": [
    "learner = Learner(config, loaders)"
   ]
  },
  {
   "cell_type": "code",
   "execution_count": 18,
   "id": "13f97f86-a3e9-4a41-9d21-452d963484b4",
   "metadata": {},
   "outputs": [
    {
     "name": "stdout",
     "output_type": "stream",
     "text": [
      "epoch\ttrain_loss\ttest_accuracy\n",
      "1\t1.905170\t0.670392\n",
      "2\t1.051449\t0.804292\n",
      "3\t0.679126\t0.845926\n",
      "4\t0.540277\t0.862441\n",
      "5\t0.469416\t0.879648\n",
      "6\t0.425877\t0.889537\n",
      "7\t0.395782\t0.896657\n",
      "8\t0.373564\t0.900415\n",
      "9\t0.356022\t0.904074\n",
      "10\t0.341619\t0.906052\n"
     ]
    }
   ],
   "source": [
    "learner.fit()"
   ]
  },
  {
   "cell_type": "markdown",
   "id": "821aaa50-5273-4a75-83ee-a7bc425e863a",
   "metadata": {},
   "source": [
    "## 4. Inference"
   ]
  },
  {
   "cell_type": "code",
   "execution_count": 19,
   "id": "b53a2ff7-0215-42b1-8908-f5a83814e6e4",
   "metadata": {},
   "outputs": [
    {
     "data": {
      "image/png": "[encoded data removed]",
      "text/plain": [
       "<Figure size 144x144 with 1 Axes>"
      ]
     },
     "metadata": {
      "needs_background": "light"
     },
     "output_type": "display_data"
    }
   ],
   "source": [
    "images, _ = next(iter(loaders['test']))\n",
    "\n",
    "i = torch.randint(len(images), size=(1,)).item()\n",
    "img = images[i]\n",
    "\n",
    "plt.figure(figsize=(2, 2))\n",
    "plt.imshow(img.squeeze(), cmap='gray')\n",
    "plt.show()"
   ]
  },
  {
   "cell_type": "code",
   "execution_count": 20,
   "id": "8deadc0a-acf6-4f4d-bef1-f000f9598043",
   "metadata": {},
   "outputs": [
    {
     "data": {
      "text/plain": [
       "tensor([1])"
      ]
     },
     "execution_count": 20,
     "metadata": {},
     "output_type": "execute_result"
    }
   ],
   "source": [
    "learner.predict(img)"
   ]
  },
  {
   "cell_type": "code",
   "execution_count": 21,
   "id": "c36874cb-4e2b-4750-97c3-d3edbb339349",
   "metadata": {},
   "outputs": [
    {
     "data": {
      "text/plain": [
       "tensor([[7.3276e-06, 9.7975e-01, 3.4301e-03, 5.7157e-03, 7.6313e-05, 2.4152e-04,\n",
       "         7.4793e-05, 2.4783e-03, 7.3507e-03, 8.7068e-04]])"
      ]
     },
     "execution_count": 21,
     "metadata": {},
     "output_type": "execute_result"
    }
   ],
   "source": [
    "learner.predict_probs(img)"
   ]
  },
  {
   "cell_type": "code",
   "execution_count": 22,
   "id": "db5a1b81-ac01-41be-b2e4-15ed4d2d6c28",
   "metadata": {},
   "outputs": [],
   "source": [
    "learner.export('digit_classifier.pt')"
   ]
  },
  {
   "cell_type": "markdown",
   "id": "73f00b8d-d3af-480f-b5b9-4ab113ef68e5",
   "metadata": {},
   "source": [
    "----"
   ]
  }
 ],
 "metadata": {
  "kernelspec": {
   "display_name": "Python 3 (ipykernel)",
   "language": "python",
   "name": "python3"
  },
  "language_info": {
   "codemirror_mode": {
    "name": "ipython",
    "version": 3
   },
   "file_extension": ".py",
   "mimetype": "text/x-python",
   "name": "python",
   "nbconvert_exporter": "python",
   "pygments_lexer": "ipython3",
   "version": "3.9.13"
  }
 },
 "nbformat": 4,
 "nbformat_minor": 5
}
